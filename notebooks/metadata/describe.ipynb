{
 "cells": [
  {
   "cell_type": "code",
   "execution_count": null,
   "metadata": {},
   "outputs": [],
   "source": [
    "%load_ext autoreload\n",
    "%autoreload 2"
   ]
  },
  {
   "cell_type": "code",
   "execution_count": null,
   "metadata": {},
   "outputs": [],
   "source": [
    "from llama_cpp import Llama\n",
    "\n",
    "from serdex.data.utils import get_resource\n",
    "from serdex.db.mysqlalchemy import MySQLAlchemy\n",
    "from serdex.metadata.explore import get_data_sample\n",
    "from serdex.metadata.explore import get_column_names\n",
    "from serdex.metadata.prompt import prompt_table_describe"
   ]
  },
  {
   "cell_type": "code",
   "execution_count": null,
   "metadata": {},
   "outputs": [],
   "source": [
    "host = \"localhost\"\n",
    "username = \"api_access\"\n",
    "database = \"sakila\"\n",
    "alchemist = MySQLAlchemy(host, username, database)"
   ]
  },
  {
   "cell_type": "code",
   "execution_count": null,
   "metadata": {},
   "outputs": [],
   "source": [
    "table_name = \"film\"\n",
    "data_sample_df = get_data_sample(alchemist, table_name)\n",
    "data_sample_str = data_sample_df.to_markdown(index=False)\n",
    "print(data_sample_str)"
   ]
  },
  {
   "cell_type": "code",
   "execution_count": null,
   "metadata": {},
   "outputs": [],
   "source": [
    "# column_names = data_sample_df.columns\n",
    "# column_names\n",
    "column_data = get_column_names(alchemist, \"film\")\n",
    "column_data_str = column_data[\n",
    "    [\n",
    "        \"field\",\n",
    "        \"type\",\n",
    "        # \"collation\",\n",
    "        # \"null\",\n",
    "        # \"key\",\n",
    "        # \"default\",\n",
    "        # \"extra\",\n",
    "        # \"privileges\",\n",
    "        # \"comment\",\n",
    "    ]\n",
    "].to_markdown(index=False)\n",
    "print(column_data_str)"
   ]
  },
  {
   "cell_type": "code",
   "execution_count": null,
   "metadata": {},
   "outputs": [],
   "source": [
    "filled_prompt = prompt_table_describe.format(\n",
    "    table_name=table_name,\n",
    "    column_names=column_data_str,\n",
    "    data_sample=data_sample_str,\n",
    ")\n",
    "\n",
    "print(filled_prompt)"
   ]
  },
  {
   "cell_type": "code",
   "execution_count": null,
   "metadata": {},
   "outputs": [],
   "source": [
    "model_fol = get_resource(\"quant_model_fol\")\n",
    "\n",
    "for mn in model_fol.iterdir():\n",
    "    print(mn.name)\n",
    "\n",
    "# model_name = \"mistral-7b-instruct-v0.2.Q4_K_M.gguf\"\n",
    "model_name = \"mistral-7b-instruct-v0.2.Q8_0.gguf\"\n",
    "# model_name = \"codellama-34b-instruct.Q5_K_M.gguf\"\n",
    "# model_name = \"mixtral-8x7b-instruct-v0.1.Q4_K_M.gguf\"\n",
    "model_path = model_fol / model_name"
   ]
  },
  {
   "cell_type": "code",
   "execution_count": null,
   "metadata": {},
   "outputs": [],
   "source": [
    "llm = Llama(\n",
    "    model_path=str(model_path),\n",
    "    n_ctx=32768,  # The max sequence length to use - note that longer sequence lengths require much more resources\n",
    "    n_threads=16,  # The number of CPU threads to use, tailor to your system and the resulting performance\n",
    ")\n",
    "\n",
    "output = llm(\n",
    "    filled_prompt,\n",
    "    max_tokens=512,\n",
    ")\n",
    "\n",
    "print(output)"
   ]
  },
  {
   "cell_type": "code",
   "execution_count": null,
   "metadata": {},
   "outputs": [],
   "source": [
    "print(output.keys())\n",
    "print(output[\"choices\"][0][\"text\"])"
   ]
  },
  {
   "cell_type": "markdown",
   "metadata": {},
   "source": [
    "This \"film\" table stores data for various films, including their title, description, release year, language, original language, rental duration and rate, length, replacement cost, rating, and special features. The primary key for this table is the smallint unsigned \"film_id\". The description column can hold textual information about each film. The language and original language fields are used to define the languages in which the film was released and its original language respectively. The rental duration, rental rate, length, replacement cost, rating, and special features columns describe various attributes of the film that may be relevant for renting or purchasing it. The last_update field is a timestamp that records when each film's entry in the table was last updated.\n"
   ]
  }
 ],
 "metadata": {
  "kernelspec": {
   "display_name": "serdex-XiGzpS8g-py3.11",
   "language": "python",
   "name": "python3"
  },
  "language_info": {
   "codemirror_mode": {
    "name": "ipython",
    "version": 3
   },
   "file_extension": ".py",
   "mimetype": "text/x-python",
   "name": "python",
   "nbconvert_exporter": "python",
   "pygments_lexer": "ipython3",
   "version": "3.11.7"
  }
 },
 "nbformat": 4,
 "nbformat_minor": 2
}
